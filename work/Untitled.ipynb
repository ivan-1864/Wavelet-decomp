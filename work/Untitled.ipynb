{
 "cells": [
  {
   "cell_type": "code",
   "execution_count": 2,
   "id": "acf57eb5-4afe-4644-a858-55ba6984abf0",
   "metadata": {},
   "outputs": [],
   "source": [
    "import pandas as pd"
   ]
  },
  {
   "cell_type": "code",
   "execution_count": 1,
   "id": "ebd03138-f179-4fcb-9287-0611309b2992",
   "metadata": {},
   "outputs": [],
   "source": [
    "file_path = '../data/data.txt'"
   ]
  },
  {
   "cell_type": "code",
   "execution_count": 18,
   "id": "5f1c34f8-550e-4f99-8ef0-55e916fdb5ca",
   "metadata": {},
   "outputs": [],
   "source": [
    "df = pd.read_csv(file_path)"
   ]
  },
  {
   "cell_type": "code",
   "execution_count": 22,
   "id": "da9d4b3a-5f44-4ad7-9b3d-2cb7e2e425c4",
   "metadata": {},
   "outputs": [
    {
     "data": {
      "text/html": [
       "<div>\n",
       "<style scoped>\n",
       "    .dataframe tbody tr th:only-of-type {\n",
       "        vertical-align: middle;\n",
       "    }\n",
       "\n",
       "    .dataframe tbody tr th {\n",
       "        vertical-align: top;\n",
       "    }\n",
       "\n",
       "    .dataframe thead th {\n",
       "        text-align: right;\n",
       "    }\n",
       "</style>\n",
       "<table border=\"1\" class=\"dataframe\">\n",
       "  <thead>\n",
       "    <tr style=\"text-align: right;\">\n",
       "      <th></th>\n",
       "      <th>j_min</th>\n",
       "      <th>j_max</th>\n",
       "      <th>k_max</th>\n",
       "      <th>num</th>\n",
       "      <th>RMSE</th>\n",
       "    </tr>\n",
       "  </thead>\n",
       "  <tbody>\n",
       "    <tr>\n",
       "      <th>926</th>\n",
       "      <td>-11</td>\n",
       "      <td>-8</td>\n",
       "      <td>40</td>\n",
       "      <td>160</td>\n",
       "      <td>0.036721</td>\n",
       "    </tr>\n",
       "    <tr>\n",
       "      <th>1011</th>\n",
       "      <td>-10</td>\n",
       "      <td>-8</td>\n",
       "      <td>40</td>\n",
       "      <td>120</td>\n",
       "      <td>0.044750</td>\n",
       "    </tr>\n",
       "    <tr>\n",
       "      <th>1012</th>\n",
       "      <td>-10</td>\n",
       "      <td>-8</td>\n",
       "      <td>60</td>\n",
       "      <td>180</td>\n",
       "      <td>0.036478</td>\n",
       "    </tr>\n",
       "    <tr>\n",
       "      <th>1023</th>\n",
       "      <td>-10</td>\n",
       "      <td>-7</td>\n",
       "      <td>40</td>\n",
       "      <td>160</td>\n",
       "      <td>0.027150</td>\n",
       "    </tr>\n",
       "    <tr>\n",
       "      <th>1072</th>\n",
       "      <td>-9</td>\n",
       "      <td>-9</td>\n",
       "      <td>120</td>\n",
       "      <td>120</td>\n",
       "      <td>0.045361</td>\n",
       "    </tr>\n",
       "    <tr>\n",
       "      <th>1073</th>\n",
       "      <td>-9</td>\n",
       "      <td>-9</td>\n",
       "      <td>140</td>\n",
       "      <td>140</td>\n",
       "      <td>0.044780</td>\n",
       "    </tr>\n",
       "    <tr>\n",
       "      <th>1074</th>\n",
       "      <td>-9</td>\n",
       "      <td>-9</td>\n",
       "      <td>160</td>\n",
       "      <td>160</td>\n",
       "      <td>0.043451</td>\n",
       "    </tr>\n",
       "    <tr>\n",
       "      <th>1075</th>\n",
       "      <td>-9</td>\n",
       "      <td>-9</td>\n",
       "      <td>180</td>\n",
       "      <td>180</td>\n",
       "      <td>0.042673</td>\n",
       "    </tr>\n",
       "    <tr>\n",
       "      <th>1090</th>\n",
       "      <td>-9</td>\n",
       "      <td>-8</td>\n",
       "      <td>80</td>\n",
       "      <td>160</td>\n",
       "      <td>0.025636</td>\n",
       "    </tr>\n",
       "    <tr>\n",
       "      <th>1172</th>\n",
       "      <td>-8</td>\n",
       "      <td>-8</td>\n",
       "      <td>180</td>\n",
       "      <td>180</td>\n",
       "      <td>0.030209</td>\n",
       "    </tr>\n",
       "  </tbody>\n",
       "</table>\n",
       "</div>"
      ],
      "text/plain": [
       "      j_min  j_max  k_max  num      RMSE\n",
       "926     -11     -8     40  160  0.036721\n",
       "1011    -10     -8     40  120  0.044750\n",
       "1012    -10     -8     60  180  0.036478\n",
       "1023    -10     -7     40  160  0.027150\n",
       "1072     -9     -9    120  120  0.045361\n",
       "1073     -9     -9    140  140  0.044780\n",
       "1074     -9     -9    160  160  0.043451\n",
       "1075     -9     -9    180  180  0.042673\n",
       "1090     -9     -8     80  160  0.025636\n",
       "1172     -8     -8    180  180  0.030209"
      ]
     },
     "execution_count": 22,
     "metadata": {},
     "output_type": "execute_result"
    }
   ],
   "source": [
    "df[(df['RMSE']<0.05) & (df['num']<200)] "
   ]
  },
  {
   "cell_type": "code",
   "execution_count": 21,
   "id": "525686c9-5432-4a9b-8419-97de974a1ea3",
   "metadata": {},
   "outputs": [
    {
     "data": {
      "text/plain": [
       "0.0018452"
      ]
     },
     "execution_count": 21,
     "metadata": {},
     "output_type": "execute_result"
    }
   ],
   "source": [
    "df['RMSE'].min()"
   ]
  },
  {
   "cell_type": "code",
   "execution_count": null,
   "id": "0b4f6f81-7a28-4f00-8128-1b8659f8e9a0",
   "metadata": {},
   "outputs": [],
   "source": []
  }
 ],
 "metadata": {
  "kernelspec": {
   "display_name": "Python 3 (ipykernel)",
   "language": "python",
   "name": "python3"
  },
  "language_info": {
   "codemirror_mode": {
    "name": "ipython",
    "version": 3
   },
   "file_extension": ".py",
   "mimetype": "text/x-python",
   "name": "python",
   "nbconvert_exporter": "python",
   "pygments_lexer": "ipython3",
   "version": "3.11.10"
  }
 },
 "nbformat": 4,
 "nbformat_minor": 5
}
